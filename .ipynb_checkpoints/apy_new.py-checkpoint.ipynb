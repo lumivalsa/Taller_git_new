{
 "cells": [
  {
   "cell_type": "code",
   "execution_count": null,
   "id": "74a3b7fd",
   "metadata": {},
   "outputs": [],
   "source": [
    "from flask import Flask, render_template\n",
    "from src import covid_dash, hospitals_tb"
   ]
  },
  {
   "cell_type": "code",
   "execution_count": null,
   "id": "162348db",
   "metadata": {},
   "outputs": [],
   "source": [
    "@app.route(\"/dashboard\")\n",
    "def dashboard():\n",
    "return render_template('dashboard.html')\n",
    "@app.route(\"/map\")\n",
    "def map():\n",
    "return render_template('map.html')"
   ]
  },
  {
   "cell_type": "code",
   "execution_count": null,
   "id": "a85d67d7",
   "metadata": {},
   "outputs": [],
   "source": [
    "@app.route(\"/dashboard\")\n",
    "def dashboard():\n",
    "return render_template('ÑAÑAAÑÑAÑAÑAÑAÑÑA.html')\n",
    "@app.route(\"/map\")\n",
    "def map():\n",
    "return render_template('map.html')"
   ]
  }
 ],
 "metadata": {
  "kernelspec": {
   "display_name": "Python 3 (ipykernel)",
   "language": "python",
   "name": "python3"
  },
  "language_info": {
   "codemirror_mode": {
    "name": "ipython",
    "version": 3
   },
   "file_extension": ".py",
   "mimetype": "text/x-python",
   "name": "python",
   "nbconvert_exporter": "python",
   "pygments_lexer": "ipython3",
   "version": "3.7.4"
  }
 },
 "nbformat": 4,
 "nbformat_minor": 5
}
